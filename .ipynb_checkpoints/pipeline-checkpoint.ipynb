{
 "cells": [
  {
   "cell_type": "code",
   "execution_count": 1,
   "metadata": {},
   "outputs": [],
   "source": [
    "import pandas as pd\n",
    "import numpy as np\n",
    "import joblib\n",
    "\n",
    "import matplotlib.pyplot as plt\n",
    "\n",
    "from sklearn.model_selection import train_test_split\n",
    "from sklearn.preprocessing import MinMaxScaler, Binarizer\n",
    "from sklearn.linear_model import Lasso\n",
    "from sklearn.feature_selection import SelectFromModel\n",
    "from sklearn.metrics import mean_squared_error, r2_score\n",
    "from sklearn.pipeline import Pipeline\n",
    "\n",
    "from feature_engine.imputation import (AddMissingIndicator, MeanMedianImputer, CategoricalImputer)\n",
    "from feature_engine.encoding import (RareLabelEncoder, OrdinalEncoder)\n",
    "from feature_engine.transformation import LogTransformer\n",
    "from feature_engine.selection import DropFeatures\n",
    "from feature_engine.wrappers import SklearnTransformerWrapper"
   ]
  },
  {
   "cell_type": "markdown",
   "metadata": {},
   "source": [
    "# 1) Cargamos y dividimos la data en train y test"
   ]
  },
  {
   "cell_type": "code",
   "execution_count": 2,
   "metadata": {},
   "outputs": [],
   "source": [
    "data = pd.read_csv('dataset.csv')\n",
    "xTrain, xTest, yTrain, yTest = train_test_split( data.drop(['G3'], axis=1), data['G3'], test_size=0.15, random_state=2021)"
   ]
  },
  {
   "cell_type": "markdown",
   "metadata": {},
   "source": [
    "# 2) Configuracion del machine learning pipeline"
   ]
  },
  {
   "cell_type": "code",
   "execution_count": 4,
   "metadata": {},
   "outputs": [],
   "source": [
    "CATEGORICAL_BINARY = ['school', 'sex', 'address', 'famsize', 'Pstatus', 'schoolsup', 'famsup', 'paid', 'activities', 'nursery', 'higher', 'internet', 'romantic']\n",
    "CATEGORICAL_ORDINAL = ['Medu', 'Fedu', 'traveltime', 'studytime', 'failures', 'famrel', 'freetime', 'goout', 'Dalc', 'Walc', 'health']\n",
    "CATEGORICAL_NOMINAL = ['Mjob', 'Fjob', 'reason', 'guardian']\n",
    "NUMERICALS_LOG_VARS = ['age', 'absences']"
   ]
  },
  {
   "cell_type": "code",
   "execution_count": null,
   "metadata": {},
   "outputs": [],
   "source": [
    "gradePipeline = Pipeline([\n",
    "    #==== TRANSFORMACION DE VARIABLES NUMERICAS ====#\n",
    "    #- Transformacion logaritmicas\n",
    "    ('log', LogTransformer(variables=NUMERICALS_LOG_VARS)),\n",
    "    \n",
    "    #==== CODIFICACION DE VARIABLES ====#\n",
    "    #- Categoricas binarias\n",
    "    ('categorical_binary_encoder', OrdinalEncoder(encoding_method='ordered', variables=CATEGORICAL_BINARY)),\n",
    "\n",
    "    #- Categoricas Nominales\n",
    "    ('categorical_encoder', OrdinalEncoder(encoding_method='ordered', variables=CATEGORICAL_NOMINAL)),\n",
    "    \n",
    "    #==== Escalado ====# \n",
    "    ('scaler', MinMaxScaler()),\n",
    "    \n",
    "    #==== Entrenamiento del modelo con Lasso ====#\n",
    "    ('Lasso', Lasso(alpha=0.01, random_state=2021)),\n",
    "])\n",
    "xTrain = xTrain[FEATURES]\n",
    "    "
   ]
  }
 ],
 "metadata": {
  "kernelspec": {
   "display_name": "Python 3",
   "language": "python",
   "name": "python3"
  },
  "language_info": {
   "codemirror_mode": {
    "name": "ipython",
    "version": 3
   },
   "file_extension": ".py",
   "mimetype": "text/x-python",
   "name": "python",
   "nbconvert_exporter": "python",
   "pygments_lexer": "ipython3",
   "version": "3.8.5"
  }
 },
 "nbformat": 4,
 "nbformat_minor": 4
}
